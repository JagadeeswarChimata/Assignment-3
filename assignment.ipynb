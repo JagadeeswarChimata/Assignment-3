{
 "cells": [
  {
   "cell_type": "code",
   "execution_count": 7,
   "id": "cef3257f",
   "metadata": {},
   "outputs": [
    {
     "name": "stdout",
     "output_type": "stream",
     "text": [
      "Random Vector:\n",
      "[16  8  1 14 20 18 19 19 13  4  5 16 11 11 13]\n",
      "\n",
      "Reshaped Array:\n",
      "[[16  8  1 14 20]\n",
      " [18 19 19 13  4]\n",
      " [ 5 16 11 11 13]]\n",
      "\n",
      "Array Shape: (3, 5)\n",
      "\n",
      "Array after replacing max in each row by 0:\n",
      "[[16  8  1 14  0]\n",
      " [18  0 19 13  4]\n",
      " [ 5  0 11 11 13]]\n",
      "\n",
      "2D Array:\n",
      "[[0 0 0]\n",
      " [0 0 0]\n",
      " [0 0 0]\n",
      " [0 0 0]]\n",
      "Shape: (4, 3)\n",
      "Type: <class 'numpy.ndarray'>\n",
      "Data Type: int32\n"
     ]
    }
   ],
   "source": [
    "import numpy as np\n",
    "\n",
    "# Create random vector of size 15 having only Integers in the range 1-20\n",
    "rand_vector = np.random.randint(1, 21, size=15)\n",
    "print(\"Random Vector:\")\n",
    "print(rand_vector)\n",
    "\n",
    "# Reshape the array to 3 by 5\n",
    "reshaped_array = rand_vector.reshape(3, 5)\n",
    "print(\"\\nReshaped Array:\")\n",
    "print(reshaped_array)\n",
    "\n",
    "# Print array shape\n",
    "print(\"\\nArray Shape:\", reshaped_array.shape)\n",
    "\n",
    "# Replace the max in each row by 0\n",
    "max_indices = np.argmax(reshaped_array, axis=1)\n",
    "for i in range(len(max_indices)):\n",
    "    reshaped_array[i, max_indices[i]] = 0\n",
    "print(\"\\nArray after replacing max in each row by 0:\")\n",
    "print(reshaped_array)\n",
    "\n",
    "# Create a 2-dimensional array of size 4 x 3 (composed of 4-byte integer elements), also print the shape, type and data type of the array.\n",
    "array_2d = np.zeros((4,3), dtype=np.int32)\n",
    "print(\"\\n2D Array:\")\n",
    "print(array_2d)\n",
    "print(\"Shape:\", array_2d.shape)\n",
    "print(\"Type:\", type(array_2d))\n",
    "print(\"Data Type:\",array_2d.dtype)"
   ]
  },
  {
   "cell_type": "code",
   "execution_count": 8,
   "id": "e8e3afe0",
   "metadata": {},
   "outputs": [
    {
     "name": "stdout",
     "output_type": "stream",
     "text": [
      "Eigenvalues: [2. 1.]\n",
      "Right Eigenvectors:\n",
      " [[0.89442719 0.70710678]\n",
      " [0.4472136  0.70710678]]\n"
     ]
    }
   ],
   "source": [
    "import numpy as np\n",
    "\n",
    "# Define the square array\n",
    "arr = np.array([[3, -2], [1, 0]])\n",
    "\n",
    "# Compute the eigenvalues and right eigenvectors of the array\n",
    "eig_vals, eig_vecs = np.linalg.eig(arr)\n",
    "\n",
    "print(\"Eigenvalues:\", eig_vals)\n",
    "print(\"Right Eigenvectors:\\n\",eig_vecs)"
   ]
  },
  {
   "cell_type": "code",
   "execution_count": 9,
   "id": "b550f5f0",
   "metadata": {},
   "outputs": [
    {
     "name": "stdout",
     "output_type": "stream",
     "text": [
      "Array:\n",
      " [[0 1 2]\n",
      " [3 4 5]]\n",
      "Sum of diagonal elements: 4\n"
     ]
    }
   ],
   "source": [
    "import numpy as np\n",
    "\n",
    "# Define the array\n",
    "arr = np.array([[0, 1, 2], [3, 4, 5]])\n",
    "\n",
    "# Compute the sum of the diagonal elements\n",
    "sum_diag = np.trace(arr)\n",
    "\n",
    "print(\"Array:\\n\", arr)\n",
    "print(\"Sum of diagonal elements:\",sum_diag)"
   ]
  },
  {
   "cell_type": "code",
   "execution_count": 10,
   "id": "76edb384",
   "metadata": {},
   "outputs": [
    {
     "name": "stdout",
     "output_type": "stream",
     "text": [
      "Reshape to 2x3:\n",
      " [[1 2 3]\n",
      " [4 5 6]]\n",
      "Reshape back to 3x2:\n",
      " [[1 2]\n",
      " [3 4]\n",
      " [5 6]]\n"
     ]
    }
   ],
   "source": [
    "import numpy as np\n",
    "\n",
    "# Define the array\n",
    "arr = np.array([[1, 2], [3, 4], [5, 6]])\n",
    "\n",
    "# Reshape to 2x3\n",
    "reshape_2x3 = arr.reshape(2, 3)\n",
    "print(\"Reshape to 2x3:\\n\", reshape_2x3)\n",
    "\n",
    "# Reshape back to 3x2\n",
    "reshape_3x2 = reshape_2x3.reshape(3, 2)\n",
    "print(\"Reshape back to 3x2:\\n\",reshape_3x2)"
   ]
  },
  {
   "cell_type": "code",
   "execution_count": 5,
   "id": "4260a5f2",
   "metadata": {},
   "outputs": [
    {
     "data": {
      "image/png": "[encoded data removed]",
      "text/plain": [
       "<Figure size 432x288 with 1 Axes>"
      ]
     },
     "metadata": {},
     "output_type": "display_data"
    }
   ],
   "source": [
    "import matplotlib.pyplot as plt\n",
    "\n",
    "languages = ['Java', 'Python', 'PHP', 'JavaScript', 'C#', 'C++']\n",
    "popularity = [22.2, 17.6, 8.8, 8, 7.7, 6.7]\n",
    "\n",
    "fig, ax = plt.subplots()\n",
    "ax.pie(popularity, labels=languages, autopct='%1.1f%%', startangle=90)\n",
    "ax.axis('equal')\n",
    "\n",
    "plt.show()"
   ]
  },
  {
   "cell_type": "code",
   "execution_count": null,
   "id": "c3eb7d2c",
   "metadata": {},
   "outputs": [],
   "source": []
  }
 ],
 "metadata": {
  "kernelspec": {
   "display_name": "Python 3 (ipykernel)",
   "language": "python",
   "name": "python3"
  },
  "language_info": {
   "codemirror_mode": {
    "name": "ipython",
    "version": 3
   },
   "file_extension": ".py",
   "mimetype": "text/x-python",
   "name": "python",
   "nbconvert_exporter": "python",
   "pygments_lexer": "ipython3",
   "version": "3.9.7"
  }
 },
 "nbformat": 4,
 "nbformat_minor": 5
}
